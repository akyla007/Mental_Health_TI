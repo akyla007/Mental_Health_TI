{
 "cells": [
  {
   "cell_type": "markdown",
   "metadata": {},
   "source": [
    "# Análise do dataset\n"
   ]
  },
  {
   "cell_type": "code",
   "execution_count": 1,
   "metadata": {},
   "outputs": [],
   "source": [
    "import os\n",
    "import sys\n",
    "module_path = os.path.abspath(os.path.join(os.pardir))\n",
    "if module_path not in sys.path:\n",
    "    sys.path.append(module_path)\n",
    "    \n",
    "import numpy as np\n",
    "import pandas as pd\n",
    "import seaborn as sns\n",
    "import matplotlib.pyplot as plt\n",
    "from utils.utils import *"
   ]
  },
  {
   "cell_type": "code",
   "execution_count": 2,
   "metadata": {},
   "outputs": [],
   "source": [
    "teste = query_consult(read_sql_file('./queries/group_data.sql'))"
   ]
  },
  {
   "cell_type": "code",
   "execution_count": 3,
   "metadata": {},
   "outputs": [
    {
     "data": {
      "text/plain": [
       "array([2014], dtype=int64)"
      ]
     },
     "execution_count": 3,
     "metadata": {},
     "output_type": "execute_result"
    }
   ],
   "source": [
    "teste[teste['UserID'] == 10]['SurveyID'].unique()"
   ]
  },
  {
   "cell_type": "code",
   "execution_count": 32,
   "metadata": {},
   "outputs": [
    {
     "name": "stdout",
     "output_type": "stream",
     "text": [
      "[1, 8, 2, 11, 10, 9, 12, 7, 6, 5, 4, 3]\n"
     ]
    }
   ],
   "source": [
    "most_frequent_questionsid = []\n",
    "for index, value in teste['questionid'].value_counts().items():\n",
    "    if value >= 3500:\n",
    "        most_frequent_questionsid.append(index)\n",
    "print(most_frequent_questionsid)"
   ]
  },
  {
   "cell_type": "code",
   "execution_count": null,
   "metadata": {},
   "outputs": [
    {
     "data": {
      "text/plain": [
       "AnswerText\n",
       "Yes      932\n",
       "Maybe    815\n",
       "No       707\n",
       "Name: count, dtype: int64"
      ]
     },
     "execution_count": 45,
     "metadata": {},
     "output_type": "execute_result"
    }
   ],
   "source": [
    "# Tipos de resposta da questão 19 (Você contaria ao seu chefe que está com problemas de saúde mental?)\n",
    "\n",
    "types_question19 = teste[(teste['questionid'] == 19) & (teste['AnswerText'] != '-1')]\n",
    "types_question19['AnswerText'].value_counts()"
   ]
  },
  {
   "cell_type": "code",
   "execution_count": 53,
   "metadata": {},
   "outputs": [
    {
     "data": {
      "text/plain": [
       "AnswerText\n",
       "Maybe    487\n",
       "No       438\n",
       "Yes      221\n",
       "Name: count, dtype: int64"
      ]
     },
     "execution_count": 53,
     "metadata": {},
     "output_type": "execute_result"
    }
   ],
   "source": [
    "\n",
    "types_question104 = teste[(teste['questionid'] == 104) & (teste['AnswerText'] != '-1')]\n",
    "types_question104['AnswerText'].value_counts()"
   ]
  },
  {
   "cell_type": "code",
   "execution_count": null,
   "metadata": {},
   "outputs": [],
   "source": [
    "questions_repeated_at_years = []"
   ]
  },
  {
   "cell_type": "code",
   "execution_count": 51,
   "metadata": {},
   "outputs": [
    {
     "name": "stdout",
     "output_type": "stream",
     "text": [
      "[ 1  2  3  4  5  6  7  8  9 10 11 12]\n"
     ]
    }
   ],
   "source": [
    "# Contar a quantidade de vezes que cada questionid aparece por ano (SurveyID)\n",
    "question_counts = teste[teste['AnswerText'] != \"-1\"].groupby(['questionid', 'SurveyID']).size().reset_index(name='count')\n",
    "\n",
    "# Filtrar para encontrar os questionids que aparecem em todos os anos (excluindo o valor -1)\n",
    "total_surveys = teste['SurveyID'].nunique()\n",
    "\n",
    "# Encontrar questionids que aparecem em todos os surveys\n",
    "questions_in_all_years = question_counts.groupby('questionid').filter(lambda x: x['SurveyID'].nunique() == total_surveys)\n",
    "\n",
    "# Exibir os questionids que aparecem em todos os anos\n",
    "questions_in_all_years = questions_in_all_years['questionid'].unique()\n",
    "\n",
    "print(questions_in_all_years)\n"
   ]
  },
  {
   "cell_type": "code",
   "execution_count": null,
   "metadata": {},
   "outputs": [],
   "source": []
  }
 ],
 "metadata": {
  "kernelspec": {
   "display_name": ".venv",
   "language": "python",
   "name": "python3"
  },
  "language_info": {
   "codemirror_mode": {
    "name": "ipython",
    "version": 3
   },
   "file_extension": ".py",
   "mimetype": "text/x-python",
   "name": "python",
   "nbconvert_exporter": "python",
   "pygments_lexer": "ipython3",
   "version": "3.12.1"
  }
 },
 "nbformat": 4,
 "nbformat_minor": 2
}
